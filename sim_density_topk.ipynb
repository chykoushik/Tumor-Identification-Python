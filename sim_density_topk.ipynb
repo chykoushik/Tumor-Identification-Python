{
 "cells": [
  {
   "cell_type": "code",
   "execution_count": 1,
   "metadata": {},
   "outputs": [
    {
     "name": "stderr",
     "output_type": "stream",
     "text": [
      "/home/huisyuan/anaconda3/envs/tf_env/lib/python3.5/site-packages/h5py/__init__.py:36: FutureWarning: Conversion of the second argument of issubdtype from `float` to `np.floating` is deprecated. In future, it will be treated as `np.float64 == np.dtype(float).type`.\n",
      "  from ._conv import register_converters as _register_converters\n",
      "Using TensorFlow backend.\n"
     ]
    }
   ],
   "source": [
    "import os\n",
    "import re\n",
    "import pandas as pd\n",
    "import numpy as np\n",
    "import tensorflow as tf\n",
    "from keras.models import Sequential\n",
    "from keras.layers import Dense\n",
    "from sklearn.preprocessing import MinMaxScaler\n",
    "import matplotlib.pyplot as plt"
   ]
  },
  {
   "cell_type": "code",
   "execution_count": 2,
   "metadata": {},
   "outputs": [],
   "source": [
    "data = pd.read_csv(\"norm_data__non_log.txt\",sep='\\t')\n",
    "#data"
   ]
  },
  {
   "cell_type": "code",
   "execution_count": 3,
   "metadata": {},
   "outputs": [],
   "source": [
    "# Extract labels\n",
    "\n",
    "def extract_label(list): \n",
    "    number = '[0-9]'\n",
    "    symbol = '_'\n",
    "    head = 'Sample'\n",
    "    list = [re.sub(number, '', i) for i in list] \n",
    "    list = [re.sub(symbol, '', i) for i in list] \n",
    "    list = [re.sub(head, '', i) for i in list] \n",
    "    return list\n",
    "\n",
    "labels = list(data)\n",
    "labels = extract_label(labels)\n",
    "labels = np.ravel(labels)\n",
    "\n",
    "data=data.T\n",
    "\n",
    "mapping = {'Non-LCa':-1,'LCa':1}\n",
    "data[\"targets\"] = labels\n",
    "data[\"targets\"] = data[\"targets\"].map(mapping)\n",
    "#data\n",
    "\n",
    "#X = data.iloc[:,0:1183].as_matrix()\n",
    "#y = data[\"targets\"].as_matrix()\n",
    "#print(X.shape)\n",
    "#print(y.shape)\n"
   ]
  },
  {
   "cell_type": "code",
   "execution_count": 4,
   "metadata": {},
   "outputs": [
    {
     "name": "stderr",
     "output_type": "stream",
     "text": [
      "/home/huisyuan/anaconda3/envs/tf_env/lib/python3.5/site-packages/ipykernel_launcher.py:11: FutureWarning: Method .as_matrix will be removed in a future version. Use .values instead.\n",
      "  # This is added back by InteractiveShellApp.init_path()\n"
     ]
    },
    {
     "data": {
      "text/plain": [
       "(3046, 1183)"
      ]
     },
     "execution_count": 4,
     "metadata": {},
     "output_type": "execute_result"
    }
   ],
   "source": [
    "# Scale Features in [0,1]\n",
    "\n",
    "scaler = MinMaxScaler() \n",
    "\n",
    "X = data.iloc[:,0:1183]\n",
    "data_scaled = pd.DataFrame(scaler.fit_transform(X), columns=X.columns)\n",
    "\n",
    "#scale targets too\n",
    "#data_scaled = pd.DataFrame(scaler.fit_transform(data), columns=data.columns) \n",
    "\n",
    "data_scaled\n",
    "X = data_scaled.as_matrix()\n",
    "y = data[\"targets\"].as_matrix\n",
    "# type(X)\n",
    "# X.shape"
   ]
  },
  {
   "cell_type": "code",
   "execution_count": null,
   "metadata": {},
   "outputs": [],
   "source": [
    "# X = data.iloc[:,0:1183].as_matrix()\n",
    "# y = data[\"targets\"].as_matrix()\n",
    "# #print(X.shape)\n",
    "# #print(y.shape)"
   ]
  },
  {
   "cell_type": "code",
   "execution_count": null,
   "metadata": {},
   "outputs": [],
   "source": [
    "# pdf with KDE\n",
    "\n",
    "# from sklearn.neighbors import KernelDensity\n",
    "# kde = KernelDensity(kernel='gaussian', bandwidth=0.25).fit(X)\n",
    "# kde.sample(3)"
   ]
  },
  {
   "cell_type": "code",
   "execution_count": null,
   "metadata": {},
   "outputs": [],
   "source": [
    "# score_samples returns the log of the probability density\n",
    "\n",
    "# print(X[11])\n",
    "# print(X[200])\n",
    "\n",
    "# print(kde.score_samples(X[11].reshape(1,-1)),\n",
    "#       kde.score_samples(X[180].reshape(1,-1)),\n",
    "#       kde.score_samples(X[18].reshape(1,-1)),\n",
    "#       kde.score_samples(X[10].reshape(1,-1)),\n",
    "#       kde.score_samples(X[100].reshape(1,-1)),\n",
    "#       kde.score_samples(X[1000].reshape(1,-1)),)\n",
    "\n",
    "# logprob=kde.score_samples(X)\n",
    "# print(logprob)\n",
    "# print(np.exp(logprob))"
   ]
  },
  {
   "cell_type": "code",
   "execution_count": 14,
   "metadata": {},
   "outputs": [
    {
     "name": "stdout",
     "output_type": "stream",
     "text": [
      "44.9146324989834\n"
     ]
    }
   ],
   "source": [
    "# Try one pair\n",
    "\n",
    "# i = 1000\n",
    "# j = 100\n",
    "\n",
    "# from sklearn.neighbors import KernelDensity\n",
    "\n",
    "# xgrid = np.linspace(0, 1, 1000)\n",
    "# kde_i = KernelDensity(kernel='gaussian', bandwidth=0.4).fit(X[:,[i]].reshape(-1,1))\n",
    "# kde_j = KernelDensity(kernel='gaussian', bandwidth=0.4).fit(X[:,[j]].reshape(-1,1))\n",
    "# sample_prob_i = kde_i.score_samples(xgrid.reshape(-1,1))\n",
    "# sample_prob_j = kde_j.score_samples(xgrid.reshape(-1,1))\n",
    "\n",
    "# #diff = np.sum((np.exp(sample_prob_i)-np.exp(sample_prob_j))**2)\n",
    "# diff = np.sum(((sample_prob_i)-(sample_prob_j))**2)\n",
    "# print(diff)\n",
    "\n",
    "\n",
    "# print(np.exp(sample_prob_i))\n",
    "# print(np.exp(sample_prob_j))\n",
    "# print(sample_prob_i)\n",
    "# print(sample_prob_j)"
   ]
  },
  {
   "cell_type": "code",
   "execution_count": 70,
   "metadata": {},
   "outputs": [
    {
     "name": "stdout",
     "output_type": "stream",
     "text": [
      "[703, 442, 518, 568, 685, 695, 841, 568, 422, 688, 627, 686, 336, 561, 853, 674, 664, 201, 566, 386, 699, 652, 841, 534, 790, 809, 230, 304, 627, 750, 616, 674, 341, 489, 844, 685, 568, 591, 561, 539, 252, 733, 285, 434, 447, 759, 530, 327, 578, 576, 579, 587, 783, 562, 854, 863, 564, 634, 610, 739, 569, 358, 647, 843, 450, 721, 790, 673, 862, 669, 588, 721, 577, 786, 765, 575, 823, 505, 618, 394, 746, 712, 716, 692, 307, 531, 385, 673, 866, 321, 639, 629, 301, 772, 479, 784, 738, 607, 335, 407, 477, 685, 549, 573, 741, 400, 219, 468, 745, 573, 580, 790, 565, 500, 561, 657, 812, 326, 610, 598, 632, 707, 238, 644, 304, 760, 605, 278, 605, 639, 694, 197, 582, 601, 347, 759, 450, 726, 494, 673, 566, 759, 734, 310, 592, 514, 727, 482, 600, 431, 247, 566, 637, 605, 645, 583, 790, 303, 577, 583, 577, 690, 784, 558, 579, 332, 245, 282, 514, 655, 679, 775, 402, 352, 673, 639, 639, 487, 826, 562, 835, 538, 152, 661, 578, 326, 704, 597, 640, 790, 637, 725, 559, 603, 197, 314, 577, 472, 289, 588, 593, 385, 449, 442, 221, 790, 714, 571, 814, 812, 576, 595, 448, 620, 598, 607, 470, 478, 577, 725, 296, 626, 192, 551, 664, 858, 570, 640, 433, 578, 314, 579, 564, 670, 238, 552, 404, 717, 745, 745, 710, 550, 597, 564, 395, 576, 371, 668, 663, 666, 857, 823, 589, 820, 748, 580, 660, 419, 595, 629, 516, 632, 564, 574, 454, 583, 608, 771, 646, 340, 659, 849, 577, 841, 662, 607, 721, 722, 694, 723, 842, 568, 658, 633, 571, 842, 608, 836, 734, 402, 548, 637, 564, 612, 627, 386, 561, 579, 717, 491, 865, 301, 689, 531, 290, 737, 539, 342, 575, 751, 447, 344, 708, 245, 586, 447, 739, 564, 626, 562, 515, 578, 607, 685, 857, 564, 581, 578, 402, 383, 430, 710, 646, 858, 745, 360, 628, 328, 644, 826, 522, 773, 590, 752, 561, 760, 793, 539, 685, 564, 671, 491, 605, 336, 429, 650, 687, 622, 395, 580, 187, 561, 597, 585, 389, 630, 568, 645, 454, 462, 805, 578, 566, 655, 448, 336, 576, 530, 771, 826, 673, 415, 639, 598, 564, 449, 205, 576, 564, 597, 549, 769, 842, 668, 714, 639, 694, 490, 565, 322, 478, 661, 545, 578, 391, 564, 810, 592, 641, 685, 568, 728, 791, 453, 629, 800, 477, 676, 332, 678, 834, 627, 606, 575, 634, 565, 846, 565, 494, 1, 278, 390, 578, 723, 577, 612, 420, 835, 385, 575, 570, 561, 588, 785, 792, 265, 590, 753, 745, 763, 605, 258, 706, 691, 824, 703, 386, 676, 571, 580, 670, 568, 619, 385, 381, 767, 731, 593, 736, 723, 571, 600, 609, 788, 209, 449, 512, 375, 490, 443, 658, 564, 561, 618, 564, 854, 576, 564, 790, 758, 682, 661, 602, 688, 659, 610, 705, 695, 154, 182, 571, 696, 774, 629, 578, 575, 752, 477, 598, 411, 634, 536, 481, 577, 582, 650, 226, 634, 564, 578, 858, 797, 810, 740, 762, 580, 389, 469, 566, 738, 476, 507, 752, 740, 669, 700, 785, 518, 615, 690, 584, 759, 640, 193, 574, 603, 519, 602, 326, 591, 837, 595, 233, 491, 607, 677, 788, 169, 593, 385, 793, 858, 418, 547, 303, 604, 275, 769, 426, 678, 812, 658, 564, 578, 667, 584, 727, 636, 561, 473, 768, 575, 561, 862, 858, 737, 685, 598, 252, 751, 622, 614, 707, 592, 432, 452, 139, 601, 266, 385, 580, 329, 725, 564, 469, 707, 493, 421, 695, 730, 610, 513, 609, 195, 720, 472, 639, 575, 568, 831, 820, 579, 420, 546, 697, 632, 422, 403, 688, 566, 684, 677, 731, 825, 862, 645, 836, 611, 390, 792, 612, 352, 857, 786, 662, 616, 731, 566, 673, 598, 811, 575, 734, 610, 749, 566, 469, 765, 271, 848, 802, 554, 677, 580, 763, 738, 611, 448, 783, 751, 565, 385, 561, 496, 284, 261, 571, 314, 579, 385, 506, 772, 281, 569, 634, 602, 175, 704, 70, 615, 777, 590, 832, 599, 534, 853, 569, 590, 563, 683, 578, 686, 565, 787, 653, 390, 838, 844, 627, 563, 426, 851, 647, 664, 723, 246, 759, 577, 698, 234, 403, 792, 714, 550, 741, 602, 790, 632, 824, 554, 452, 736, 488, 663, 564, 784, 580, 546, 783, 742, 674, 725, 676, 580, 708, 586, 674, 755, 581, 438, 667, 527, 829, 714, 700, 810, 578, 588, 699, 600, 695, 565, 858, 579, 616, 533, 610, 364, 575, 831, 370, 658, 473, 632, 704, 826, 396, 858, 725, 580, 551, 404, 624, 384, 721, 709, 707, 699, 525, 716, 563, 669, 582, 341, 650, 749, 676, 599, 789, 231, 670, 148, 653, 589, 609, 568, 565, 679, 575, 563, 784, 102, 597, 831, 490, 564, 591, 652, 709, 594, 575, 850, 749, 704, 578, 699, 852, 452, 232, 232, 413, 589, 566, 514, 490, 723, 739, 641, 690, 577, 577, 327, 375, 582, 568, 238, 595, 650, 645, 589, 846, 610, 87, 565, 627, 562, 631, 825, 763, 404, 669, 250, 299, 747, 638, 666, 734, 412, 723, 285, 523, 423, 533, 547, 669, 596, 624, 391, 646, 691, 471, 756, 574, 303, 634, 561, 598, 674, 639, 610, 751, 301, 680, 324, 444, 201, 784, 816, 581, 674, 695, 525, 669, 580, 587, 502, 626, 655, 656, 728, 582, 678, 628, 659, 564, 574, 681, 745, 568, 853, 658, 230, 340, 605, 638, 850, 323, 286, 566, 194, 671, 564, 571, 428, 704, 840, 594, 838, 281, 606, 673, 745, 355, 582, 707, 494, 422, 673, 535, 680, 589, 564, 526, 714, 369, 769, 689, 324, 568, 779, 502, 657, 577, 739, 626, 359, 435, 772, 663, 850, 773, 564, 335, 329, 401, 725, 737, 714, 566, 580, 726, 398, 569, 634, 708, 707, 734, 584, 303, 496, 615, 855, 561, 670, 563, 759, 585, 670, 500, 509, 314, 470, 427, 201, 841, 533, 725, 605, 325, 443, 658, 482, 594, 584, 854, 805, 284, 674, 561, 632, 588, 582, 743, 564, 125, 387, 850, 590, 576, 582, 409, 610, 670, 575, 643, 589, 571, 539, 575, 638, 711, 639, 381, 585, 632, 605, 456, 591, 824, 687, 595, 772, 525, 609, 846, 526, 727, 818, 840, 711, 689, 576, 694, 657, 426, 471, 634, 607, 187, 842, 301, 847, 65, 539, 577, 578, 565, 564, 602, 442, 578, 520, 851, 821, 586, 769, 614, 569, 827, 596, 730, 609, 847, 377, 691, 664, 723, 568, 790, 769, 331, 721, 704, 242, 3, 841, 785, 769, 778, 518, 856, 645, 688, 639, 443, 639, 755, 581, 566, 257, 442, 502, 390, 851, 602, 469, 438, 300, 441, 683, 762, 568, 243, 245, 710, 843, 577, 685, 459, 556, 345, 656, 661, 667, 731, 580, 630, 750, 390, 669, 492, 618, 766, 564, 336, 304, 391, 492, 564, 661, 663, 722, 578, 576, 575, 581, 564, 609, 534, 563, 769, 364, 749, 385, 772, 403, 626, 564, 639, 416, 610, 565, 490]\n"
     ]
    }
   ],
   "source": [
    "# All pairs\n",
    "\n",
    "from sklearn.neighbors import KernelDensity\n",
    "\n",
    "xgrid = np.linspace(0, 1, 10)\n",
    "#sim_table = pd.DataFrame()\n",
    "num_SimilarFeature = []\n",
    "\n",
    "for i in range(0,1183):\n",
    "    diff_i = []\n",
    "    kde_i = KernelDensity(kernel='gaussian', bandwidth=0.4).fit(X[:,[i]].reshape(-1,1))\n",
    "    sample_prob_i = kde_i.score_samples(xgrid.reshape(-1,1))\n",
    "    \n",
    "    for j in range(0,1183):\n",
    "        #if j!=i: \n",
    "\n",
    "        kde_j = KernelDensity(kernel='gaussian', bandwidth=0.4).fit(X[:,[j]].reshape(-1,1))\n",
    "        sample_prob_j = kde_j.score_samples(xgrid.reshape(-1,1))\n",
    "        diff = np.sum(((sample_prob_i)-(sample_prob_j))**2)   \n",
    "#         print(i,j,diff)\n",
    "        diff_i.append(diff)\n",
    "#     print(diff_i)\n",
    "#     the SimilarFeature includes itself\n",
    "    \n",
    "    num_SimilarFeature_i = np.sum(1 for s in diff_i if s<=1)\n",
    "    num_SimilarFeature.append(num_SimilarFeature_i)\n",
    "print(num_SimilarFeature)\n",
    "#     print(num_SimilarFeature_i)    \n",
    "#     sim_table[i] = diff_i\n",
    "# sim_table         "
   ]
  },
  {
   "cell_type": "code",
   "execution_count": 92,
   "metadata": {},
   "outputs": [],
   "source": [
    "with open('sim_density.txt', 'w') as f:\n",
    "    for item in num_SimilarFeature:\n",
    "        f.write(\"%s\\n\" % item)\n",
    "\n",
    "f.close()"
   ]
  },
  {
   "cell_type": "code",
   "execution_count": 94,
   "metadata": {},
   "outputs": [],
   "source": [
    "# Extract top-k distinct features \n",
    "\n",
    "k1 = [i for i in range(len(num_SimilarFeature)) if num_SimilarFeature[i] < 200]\n",
    "# print('best',len(k),':\\n',k)\n",
    "\n",
    "k2 = [i for i in range(len(num_SimilarFeature)) if num_SimilarFeature[i] < 230]\n",
    "# print('best',len(k),':\\n',k)\n",
    "\n",
    "k3 = [i for i in range(len(num_SimilarFeature)) if num_SimilarFeature[i] < 250]\n",
    "# print('best',len(k),':\\n',k)\n",
    "\n",
    "with open('sim_density_top22.txt', 'w') as f:\n",
    "    for item in k1:\n",
    "        f.write(\"%s\\n\" % item)\n",
    "f.close()\n",
    "        \n",
    "with open('sim_density_top30.txt', 'w') as f:\n",
    "    for item in k2:\n",
    "        f.write(\"%s\\n\" % item)\n",
    "f.close()\n",
    "        \n",
    "with open('sim_density_top47.txt', 'w') as f:\n",
    "    for item in k3:\n",
    "        f.write(\"%s\\n\" % item)\n",
    "f.close()"
   ]
  },
  {
   "cell_type": "code",
   "execution_count": 100,
   "metadata": {},
   "outputs": [
    {
     "name": "stdout",
     "output_type": "stream",
     "text": [
      "(3046, 30)\n"
     ]
    }
   ],
   "source": [
    "# Reduce Dimension\n",
    "\n",
    "# k2 = []\n",
    "# with open(\"sim_density_top30.txt\") as f:\n",
    "#     for line in f:\n",
    "#         k2.append(line)\n",
    "        \n",
    "# k2 = [float(i) for i in k2]        \n",
    "        \n",
    "# X_new = data.iloc[:,k2]\n",
    "# print(X_new.shape)"
   ]
  },
  {
   "cell_type": "code",
   "execution_count": null,
   "metadata": {},
   "outputs": [],
   "source": []
  }
 ],
 "metadata": {
  "kernelspec": {
   "display_name": "Python 3",
   "language": "python",
   "name": "python3"
  },
  "language_info": {
   "codemirror_mode": {
    "name": "ipython",
    "version": 3
   },
   "file_extension": ".py",
   "mimetype": "text/x-python",
   "name": "python",
   "nbconvert_exporter": "python",
   "pygments_lexer": "ipython3",
   "version": "3.5.5"
  }
 },
 "nbformat": 4,
 "nbformat_minor": 2
}
