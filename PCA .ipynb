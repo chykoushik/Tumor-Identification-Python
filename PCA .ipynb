{
 "cells": [
  {
   "cell_type": "code",
   "execution_count": 1,
   "metadata": {},
   "outputs": [
    {
     "name": "stderr",
     "output_type": "stream",
     "text": [
      "/home/huisyuan/anaconda3/envs/tf_env/lib/python3.5/site-packages/h5py/__init__.py:36: FutureWarning: Conversion of the second argument of issubdtype from `float` to `np.floating` is deprecated. In future, it will be treated as `np.float64 == np.dtype(float).type`.\n",
      "  from ._conv import register_converters as _register_converters\n",
      "Using TensorFlow backend.\n"
     ]
    }
   ],
   "source": [
    "import os\n",
    "import re\n",
    "import pandas as pd\n",
    "import numpy as np\n",
    "import tensorflow as tf\n",
    "from keras.models import Sequential\n",
    "from keras.layers import Dense\n",
    "from sklearn.preprocessing import MinMaxScaler\n",
    "import matplotlib.pyplot as plt"
   ]
  },
  {
   "cell_type": "code",
   "execution_count": 2,
   "metadata": {},
   "outputs": [],
   "source": [
    "data = pd.read_csv(\"norm_data__non_log.txt\",sep='\\t')\n",
    "#data"
   ]
  },
  {
   "cell_type": "code",
   "execution_count": 3,
   "metadata": {},
   "outputs": [],
   "source": [
    "def extract_label(list): \n",
    "    number = '[0-9]'\n",
    "    symbol = '_'\n",
    "    head = 'Sample'\n",
    "    list = [re.sub(number, '', i) for i in list] \n",
    "    list = [re.sub(symbol, '', i) for i in list] \n",
    "    list = [re.sub(head, '', i) for i in list] \n",
    "    return list\n",
    "\n",
    "labels = list(data)\n",
    "labels = extract_label(labels)\n",
    "labels = np.ravel(labels)\n",
    "\n",
    "data=data.T\n",
    "\n",
    "mapping = {'Non-LCa':-1,'LCa':1}\n",
    "data[\"targets\"] = labels\n",
    "data[\"targets\"] = data[\"targets\"].map(mapping)"
   ]
  },
  {
   "cell_type": "code",
   "execution_count": 5,
   "metadata": {},
   "outputs": [],
   "source": [
    "# # Log and Scale Features in [0,1]\n",
    "\n",
    "# scaler = MinMaxScaler() \n",
    "\n",
    "# X = data.iloc[:,0:1183]\n",
    "# X = np.log(X)\n",
    "# data_scaled = pd.DataFrame(scaler.fit_transform(X), columns=X.columns)\n",
    "\n",
    "# #scale targets too\n",
    "# #data_scaled = pd.DataFrame(scaler.fit_transform(data), columns=data.columns) \n",
    "\n",
    "# data_scaled\n",
    "# X = data_scaled.as_matrix()\n",
    "\n",
    "# Seperate the features and target\n",
    "X = data.iloc[:,0:1183]\n",
    "y = data[\"targets\"].as_matrix"
   ]
  },
  {
   "cell_type": "code",
   "execution_count": 35,
   "metadata": {},
   "outputs": [
    {
     "name": "stdout",
     "output_type": "stream",
     "text": [
      "(8, 1183)\n"
     ]
    }
   ],
   "source": [
    "from sklearn.preprocessing import StandardScaler\n",
    "\n",
    "# Standardizing the features\n",
    "X = StandardScaler().fit_transform(X)\n",
    "\n",
    "# Project to 2D\n",
    "from sklearn.decomposition import PCA\n",
    "pca = PCA(n_components=8)\n",
    "principalComponents = pca.fit_transform(X)\n",
    "\n",
    "# Find Loadings\n",
    "loadings = pca.components_\n",
    "\n",
    "# Choose Features\n",
    "print(loadings.shape)\n",
    "type(loadings)\n",
    "\n",
    "idx = []\n",
    "for i in range(0,8):\n",
    "    idx_i = (loadings[i]).argsort()[:4]\n",
    "    idx.append(idx_i)\n",
    "idx = np.vstack(idx)\n",
    "# print(type(idx))\n",
    "idx = idx.reshape(1,32)\n",
    "idx = np.sort(idx)\n",
    "\n",
    "\n",
    "# I've omitted the code to create ind; a list of the indexes of the\n",
    "# loadings ordered by distance from origin.\n",
    "\n",
    "# plt.scatter(*loadings, alpha=0.3, label=\"Loadings\");\n",
    "# # plt.scatter(*loadings[:, ind[:3]], c='r', marker='o',s=80, linewidths=1, facecolors=\"none\", edgecolors='r', label=\"Contributes most\\nto variance\");\n",
    "\n",
    "# plt.title(\"Loading plot\");\n",
    "# plt.xlabel(\"Loadings on PC1\");\n",
    "# plt.ylabel(\"Loadings on PC2\");\n",
    "# plt.grid();\n",
    "# plt.legend(loc='lower left');\n",
    "\n",
    "with open('pc_loading_top32.txt', 'w') as f:\n",
    "    for item in idx:\n",
    "        f.write(\"%s\\n\" % item)\n",
    "f.close()"
   ]
  },
  {
   "cell_type": "code",
   "execution_count": null,
   "metadata": {},
   "outputs": [],
   "source": []
  }
 ],
 "metadata": {
  "kernelspec": {
   "display_name": "Python 3",
   "language": "python",
   "name": "python3"
  },
  "language_info": {
   "codemirror_mode": {
    "name": "ipython",
    "version": 3
   },
   "file_extension": ".py",
   "mimetype": "text/x-python",
   "name": "python",
   "nbconvert_exporter": "python",
   "pygments_lexer": "ipython3",
   "version": "3.5.5"
  }
 },
 "nbformat": 4,
 "nbformat_minor": 2
}
